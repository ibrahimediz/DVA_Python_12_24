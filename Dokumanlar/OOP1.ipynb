{
 "cells": [
  {
   "cell_type": "markdown",
   "metadata": {},
   "source": [
    "# OOP\n",
    "* Sınıf,Nesne\n",
    "* Attribute,Method\n",
    "* Constructor\n",
    "* Destructor"
   ]
  },
  {
   "cell_type": "code",
   "execution_count": 1,
   "metadata": {},
   "outputs": [
    {
     "name": "stdout",
     "output_type": "stream",
     "text": [
      "<class 'type'>\n"
     ]
    }
   ],
   "source": [
    "class Sinif:\n",
    "    pass\n",
    "print(type(Sinif))"
   ]
  },
  {
   "cell_type": "code",
   "execution_count": 2,
   "metadata": {},
   "outputs": [
    {
     "data": {
      "text/plain": [
       "type"
      ]
     },
     "execution_count": 2,
     "metadata": {},
     "output_type": "execute_result"
    }
   ],
   "source": [
    "type(int)"
   ]
  },
  {
   "cell_type": "code",
   "execution_count": 7,
   "metadata": {},
   "outputs": [
    {
     "data": {
      "text/plain": [
       "__main__.Sinif"
      ]
     },
     "execution_count": 7,
     "metadata": {},
     "output_type": "execute_result"
    }
   ],
   "source": [
    "var1 = Sinif()\n",
    "type(var1)"
   ]
  },
  {
   "cell_type": "code",
   "execution_count": null,
   "metadata": {},
   "outputs": [
    {
     "name": "stdout",
     "output_type": "stream",
     "text": [
      "ASTALA VİSTA\n",
      "Örnek Özellik\n",
      "Sınıf Özelliği\n",
      "ASTALA VİSTA\n"
     ]
    }
   ],
   "source": [
    "class Sinif:\n",
    "    classAttr = \"Sınıf Özelliği\" \n",
    "    def __init__(self):\n",
    "        self.instanceAttr = \"Örnek Özellik\"\n",
    "\n",
    "    def instanceMethod(self): # instance Method\n",
    "        print(self.instanceAttr)\n",
    "\n",
    "    @classmethod\n",
    "    def classMethod(cls):\n",
    "        print(cls.classAttr)\n",
    "\n",
    "    @staticmethod\n",
    "    def pi():\n",
    "        print(22/7)\n",
    "\n",
    "    def __del__(self): # destructor\n",
    "        print(\"ASTALA VİSTA\")\n",
    "    \n",
    "obj1 = Sinif()\n",
    "obj2 = Sinif()\n",
    "obj1.instanceMethod(),obj1.classMethod(),obj1.instanceAttr,obj1.classAttr\n",
    "obj3 = Sinif()\n",
    "del obj1"
   ]
  },
  {
   "cell_type": "code",
   "execution_count": 10,
   "metadata": {},
   "outputs": [
    {
     "name": "stdout",
     "output_type": "stream",
     "text": [
      "3.142857142857143\n",
      "Sınıf Özelliği\n"
     ]
    },
    {
     "data": {
      "text/plain": [
       "(None, None, 'Sınıf Özelliği')"
      ]
     },
     "execution_count": 10,
     "metadata": {},
     "output_type": "execute_result"
    }
   ],
   "source": [
    "Sinif.pi(),Sinif.classMethod(),Sinif.classAttr"
   ]
  },
  {
   "cell_type": "markdown",
   "metadata": {},
   "source": [
    "### Çokgen Sınıfı\n",
    "* kenar sayısı\n",
    "* açılar \n",
    "* isim\n",
    "- bilgiver()"
   ]
  },
  {
   "cell_type": "code",
   "execution_count": 23,
   "metadata": {},
   "outputs": [
    {
     "name": "stdout",
     "output_type": "stream",
     "text": [
      "Üçgen [90, 45, 45]\n",
      "Çokgen Sınıf\n",
      "Üçgen [90, 45, 45]\n"
     ]
    }
   ],
   "source": [
    "class Cokgen:\n",
    "    classAttr = \"Çokgen Sınıf\"\n",
    "    def __init__(self,isim,acilar,kenarsay):\n",
    "        self.isim = isim\n",
    "        self.acilar = acilar\n",
    "        self.kenarsay = kenarsay\n",
    "        self.bilgiVer()\n",
    "        print(Cokgen.classAttr)\n",
    "\n",
    "    def bilgiVer(self):\n",
    "        print(f\"{self.isim} {self.acilar}\")\n",
    "ucgen = Cokgen(\"Üçgen\",[90,45,45],3)\n",
    "ucgen.bilgiVer()      "
   ]
  },
  {
   "cell_type": "code",
   "execution_count": null,
   "metadata": {},
   "outputs": [],
   "source": []
  }
 ],
 "metadata": {
  "kernelspec": {
   "display_name": "Python 3",
   "language": "python",
   "name": "python3"
  },
  "language_info": {
   "codemirror_mode": {
    "name": "ipython",
    "version": 3
   },
   "file_extension": ".py",
   "mimetype": "text/x-python",
   "name": "python",
   "nbconvert_exporter": "python",
   "pygments_lexer": "ipython3",
   "version": "3.13.0"
  }
 },
 "nbformat": 4,
 "nbformat_minor": 2
}
