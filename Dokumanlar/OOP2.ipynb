{
 "cells": [
  {
   "cell_type": "markdown",
   "metadata": {},
   "source": [
    "* Encapsulation\n",
    "* Inheritance\n",
    "* Polymorphism\n",
    "* Abstraction"
   ]
  },
  {
   "cell_type": "markdown",
   "metadata": {},
   "source": [
    "## Encapsulation"
   ]
  },
  {
   "cell_type": "code",
   "execution_count": null,
   "metadata": {},
   "outputs": [
    {
     "data": {
      "text/plain": [
       "2"
      ]
     },
     "execution_count": 7,
     "metadata": {},
     "output_type": "execute_result"
    }
   ],
   "source": [
    "class A:\n",
    "    def __init__(self):\n",
    "        self.var1 = 1\n",
    "        self._var1 = 2\n",
    "        self.__var1 = 3\n",
    "\n",
    "obj = A()\n",
    "# obj.__var1,\n",
    "obj._var1"
   ]
  },
  {
   "cell_type": "code",
   "execution_count": 11,
   "metadata": {},
   "outputs": [
    {
     "data": {
      "text/plain": [
       "3"
      ]
     },
     "execution_count": 11,
     "metadata": {},
     "output_type": "execute_result"
    }
   ],
   "source": [
    "class A:\n",
    "    def __init__(self):\n",
    "        # self.var1 = 1\n",
    "        # self._var1 = 2\n",
    "        self.__var1 = 3\n",
    "    \n",
    "    def var1(self):\n",
    "        return self.__var1\n",
    "\n",
    "obj = A()\n",
    "obj.var1()"
   ]
  },
  {
   "cell_type": "code",
   "execution_count": null,
   "metadata": {},
   "outputs": [
    {
     "data": {
      "text/plain": [
       "3"
      ]
     },
     "execution_count": 12,
     "metadata": {},
     "output_type": "execute_result"
    }
   ],
   "source": [
    "class A:\n",
    "    def __init__(self):\n",
    "        # self.var1 = 1\n",
    "        # self._var1 = 2\n",
    "        self.__var1 = 3\n",
    "        \n",
    "    ## getter\n",
    "    def var1(self):\n",
    "        return self.__var1\n",
    "\n",
    "obj = A()\n",
    "obj.var1()"
   ]
  },
  {
   "cell_type": "code",
   "execution_count": 13,
   "metadata": {},
   "outputs": [
    {
     "data": {
      "text/plain": [
       "3"
      ]
     },
     "execution_count": 13,
     "metadata": {},
     "output_type": "execute_result"
    }
   ],
   "source": [
    "class A:\n",
    "    def __init__(self):\n",
    "        # self.var1 = 1\n",
    "        # self._var1 = 2\n",
    "        self.__var1 = 3\n",
    "        \n",
    "    @property\n",
    "    def var1(self):\n",
    "        return self.__var1\n",
    "\n",
    "obj = A()\n",
    "obj.var1"
   ]
  },
  {
   "cell_type": "code",
   "execution_count": 32,
   "metadata": {},
   "outputs": [
    {
     "data": {
      "text/plain": [
       "-3"
      ]
     },
     "execution_count": 32,
     "metadata": {},
     "output_type": "execute_result"
    }
   ],
   "source": [
    "class A:\n",
    "    def __init__(self):\n",
    "        # self.var1 = 1\n",
    "        # self._var1 = 2\n",
    "        self.__var1 = 3\n",
    "        \n",
    "    @property\n",
    "    def gizli(self):\n",
    "        return self.__var1\n",
    "    \n",
    "    @gizli.setter\n",
    "    def gizli(self,param):\n",
    "        if param in range(10):\n",
    "            self.__var1 = param\n",
    "        else:\n",
    "            raise ValueError(\"Değer hatası (0-9)\")\n",
    "        \n",
    "    @gizli.deleter\n",
    "    def gizli(self):\n",
    "        self.__var1 *= -1\n",
    "\n",
    "            \n",
    "\n",
    "obj = A()\n",
    "obj.gizli\n",
    "del obj.gizli\n",
    "obj.gizli"
   ]
  },
  {
   "cell_type": "code",
   "execution_count": 30,
   "metadata": {},
   "outputs": [],
   "source": [
    "obj.gizli = 6"
   ]
  },
  {
   "cell_type": "code",
   "execution_count": 31,
   "metadata": {},
   "outputs": [
    {
     "data": {
      "text/plain": [
       "[5, 6]"
      ]
     },
     "execution_count": 31,
     "metadata": {},
     "output_type": "execute_result"
    }
   ],
   "source": [
    "obj._log\n"
   ]
  },
  {
   "cell_type": "markdown",
   "metadata": {},
   "source": [
    "## Inheritance "
   ]
  },
  {
   "cell_type": "code",
   "execution_count": 34,
   "metadata": {},
   "outputs": [
    {
     "name": "stdout",
     "output_type": "stream",
     "text": [
      "A\n",
      "A Sınıfından Çalıştım\n"
     ]
    }
   ],
   "source": [
    "class A:\n",
    "    def __init__(self):\n",
    "        self.a = \"A\"\n",
    "\n",
    "    def soyle(self):\n",
    "        print(\"A Sınıfından Çalıştım\")\n",
    "\n",
    "    def soyleA(self):\n",
    "        print(self.a)\n",
    "\n",
    "\n",
    "class B(A):\n",
    "    pass \n",
    "objA = B()\n",
    "objA.soyleA()\n",
    "objA.soyle()"
   ]
  },
  {
   "cell_type": "code",
   "execution_count": 36,
   "metadata": {},
   "outputs": [
    {
     "name": "stdout",
     "output_type": "stream",
     "text": [
      "A\n",
      "A Sınıfından Çalıştım\n"
     ]
    }
   ],
   "source": [
    "class A:\n",
    "    def __init__(self):\n",
    "        self.a = \"A\"\n",
    "\n",
    "    def soyle(self):\n",
    "        print(\"A Sınıfından Çalıştım\")\n",
    "\n",
    "    def soyleA(self):\n",
    "        print(self.a)\n",
    "\n",
    "\n",
    "class B(A):\n",
    "    def __init__(self):\n",
    "        super().__init__()\n",
    "        self.b = \"B\"\n",
    "    def soyleB(self):\n",
    "        print(self.b)\n",
    "objA = B()\n",
    "objA.soyleA()\n",
    "objA.soyle()"
   ]
  },
  {
   "cell_type": "code",
   "execution_count": 44,
   "metadata": {},
   "outputs": [
    {
     "name": "stdout",
     "output_type": "stream",
     "text": [
      "A\n",
      "B Sınıfından Çalıştım\n",
      "Kill C\n"
     ]
    }
   ],
   "source": [
    "class A:\n",
    "    def __init__(self):\n",
    "        self.a = \"A\"\n",
    "\n",
    "    def soyle(self):\n",
    "        print(\"A Sınıfından Çalıştım\")\n",
    "\n",
    "    def soyleA(self):\n",
    "        print(self.a)\n",
    "\n",
    "    def __del__(self):\n",
    "        print(\"Kill A\")\n",
    "\n",
    "class B:\n",
    "    def __init__(self):\n",
    "        self.b = \"B\"\n",
    "\n",
    "    def soyle(self):\n",
    "        print(\"B Sınıfından Çalıştım\")\n",
    "\n",
    "    def soyleB(self):\n",
    "        print(self.b)\n",
    "\n",
    "    def __del__(self):\n",
    "        print(\"Kill B\")\n",
    "\n",
    "class C(A,B):\n",
    "    def __init__(self):\n",
    "        A.__init__(self)\n",
    "        B.__init__(self)\n",
    "        self.c = \"C\"\n",
    "\n",
    "    def soyle(self):\n",
    "        B.soyle(self)\n",
    "\n",
    "    def __del__(self):\n",
    "        print(\"Kill C\")\n",
    "objC = C()\n",
    "objC.soyleA()\n",
    "objC.soyle()\n",
    "del objC"
   ]
  },
  {
   "cell_type": "markdown",
   "metadata": {},
   "source": [
    "## Polymorphism"
   ]
  },
  {
   "cell_type": "code",
   "execution_count": 45,
   "metadata": {},
   "outputs": [],
   "source": [
    "def fonk(*args):\n",
    "    print(args)"
   ]
  },
  {
   "cell_type": "code",
   "execution_count": null,
   "metadata": {},
   "outputs": [],
   "source": [
    "class A:\n",
    "    def __init__(self):\n",
    "        self.a = \"A\"\n",
    "\n",
    "    def soyle(self):\n",
    "        print(\"A Sınıfından Çalıştım\")\n",
    "\n",
    "    def soyleA(self):\n",
    "        print(self.a)\n",
    "\n",
    "\n",
    "class B(A):\n",
    "    def __init__(self):\n",
    "        super().__init__() ################\n",
    "        self.b = \"B\"\n",
    "    def soyleB(self):\n",
    "        print(self.b)\n",
    "objA = B()\n",
    "objA.soyleA()\n",
    "objA.soyle()"
   ]
  },
  {
   "cell_type": "code",
   "execution_count": null,
   "metadata": {},
   "outputs": [],
   "source": [
    "class A:\n",
    "    def __init__(self,a):\n",
    "        self.a = a\n",
    "\n",
    "    def afonk(self):\n",
    "        return self.a\n",
    "    \n",
    "liste = [A(2),A(3)]\n",
    "\n",
    "def fonk(obj):\n",
    "    print(obj.a)\n",
    "\n",
    "for item in liste:\n",
    "    fonk(item)"
   ]
  },
  {
   "cell_type": "markdown",
   "metadata": {},
   "source": [
    "## Abstraction"
   ]
  },
  {
   "cell_type": "code",
   "execution_count": null,
   "metadata": {},
   "outputs": [],
   "source": [
    "from abc import ABC,abstractmethod\n",
    "\n",
    "class A(ABC):\n",
    "    @abstractmethod\n",
    "    def soyle(self):\n",
    "        pass\n",
    "\n",
    "class B(A):\n",
    "    def soyle(self):\n",
    "        print(\"Test\")\n",
    "obj1 = B()"
   ]
  },
  {
   "cell_type": "markdown",
   "metadata": {},
   "source": [
    "## Decorators"
   ]
  },
  {
   "cell_type": "code",
   "execution_count": 49,
   "metadata": {},
   "outputs": [],
   "source": [
    "class Sinif:\n",
    "    @classmethod ###################################\n",
    "    def classMethod(cls):\n",
    "        print(cls.classAttr)\n",
    "\n",
    "    @staticmethod #######################\n",
    "    def pi():\n",
    "        print(22/7)\n",
    "\n",
    "    def __del__(self): # destructor\n",
    "        print(\"ASTALA VİSTA\")"
   ]
  },
  {
   "cell_type": "code",
   "execution_count": 55,
   "metadata": {},
   "outputs": [
    {
     "name": "stdout",
     "output_type": "stream",
     "text": [
      "faktoriyel çalışması için geçen süre 1.0009024143218994\n",
      "120\n"
     ]
    }
   ],
   "source": [
    "import time\n",
    "\n",
    "def zaman(fonk):\n",
    "    def icfonk(*args,**kwargs):\n",
    "        baslangic = time.time()\n",
    "        sayi = fonk(*args,**kwargs)\n",
    "        bitis = time.time()\n",
    "        print(f\"{fonk.__name__} çalışması için geçen süre {bitis-baslangic}\")\n",
    "        return sayi\n",
    "    return icfonk\n",
    "@zaman\n",
    "def faktoriyel(sayi):\n",
    "    time.sleep(1)\n",
    "    sonuc = 1\n",
    "    for i in range(1,sayi+1):\n",
    "        sonuc *=i\n",
    "    return sonuc\n",
    "print(faktoriyel(5))"
   ]
  },
  {
   "cell_type": "markdown",
   "metadata": {},
   "source": [
    "## Magic Methods"
   ]
  },
  {
   "cell_type": "code",
   "execution_count": null,
   "metadata": {},
   "outputs": [
    {
     "name": "stdout",
     "output_type": "stream",
     "text": [
      "1\n"
     ]
    },
    {
     "data": {
      "text/plain": [
       "'A'"
      ]
     },
     "execution_count": 59,
     "metadata": {},
     "output_type": "execute_result"
    }
   ],
   "source": [
    "# __fonk__\n",
    "\n",
    "class A:\n",
    "    def __init__(self,a,b):\n",
    "        self.a = a\n",
    "        self.b = b\n",
    "\n",
    "    def __str__(self):\n",
    "        return str(self.a)\n",
    "    \n",
    "    def __lt__(self,obj):\n",
    "        return self.a < obj.a\n",
    "    \n",
    "\n",
    "    \n",
    "obj1 = A(1,2)\n",
    "obj2 = A(3,5)\n",
    "print(obj)\n",
    "obj1 > obj2"
   ]
  },
  {
   "cell_type": "markdown",
   "metadata": {},
   "source": [
    "https://www.geeksforgeeks.org/dunder-magic-methods-python/"
   ]
  },
  {
   "cell_type": "code",
   "execution_count": null,
   "metadata": {},
   "outputs": [],
   "source": []
  }
 ],
 "metadata": {
  "kernelspec": {
   "display_name": "Python 3",
   "language": "python",
   "name": "python3"
  },
  "language_info": {
   "codemirror_mode": {
    "name": "ipython",
    "version": 3
   },
   "file_extension": ".py",
   "mimetype": "text/x-python",
   "name": "python",
   "nbconvert_exporter": "python",
   "pygments_lexer": "ipython3",
   "version": "undefined.undefined.undefined"
  }
 },
 "nbformat": 4,
 "nbformat_minor": 2
}
