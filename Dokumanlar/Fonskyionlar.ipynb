{
 "cells": [
  {
   "cell_type": "markdown",
   "metadata": {},
   "source": [
    "# Fonksiyonlar\n",
    "* Tanımlama\n",
    "* Çağırma\n",
    "* return\n",
    "* parametre tanımları\n",
    "    - isimli parametre\n",
    "    - `*args`\n",
    "    - `**kwargs`\n",
    "* yield\n",
    "* lambda\n",
    "* global nonlocal\n",
    "* recursion\n",
    "* built-ins"
   ]
  },
  {
   "cell_type": "markdown",
   "metadata": {},
   "source": [
    "## tanımlama\n"
   ]
  },
  {
   "cell_type": "code",
   "execution_count": null,
   "metadata": {},
   "outputs": [],
   "source": [
    "def fonk():\n",
    "    pass\n"
   ]
  },
  {
   "cell_type": "markdown",
   "metadata": {},
   "source": [
    "## Çağırma"
   ]
  },
  {
   "cell_type": "code",
   "execution_count": 2,
   "metadata": {},
   "outputs": [
    {
     "data": {
      "text/plain": [
       "function"
      ]
     },
     "execution_count": 2,
     "metadata": {},
     "output_type": "execute_result"
    }
   ],
   "source": [
    "type(fonk)"
   ]
  },
  {
   "cell_type": "code",
   "execution_count": 7,
   "metadata": {},
   "outputs": [
    {
     "data": {
      "text/plain": [
       "int"
      ]
     },
     "execution_count": 7,
     "metadata": {},
     "output_type": "execute_result"
    }
   ],
   "source": [
    "type(fonk())"
   ]
  },
  {
   "cell_type": "code",
   "execution_count": 4,
   "metadata": {},
   "outputs": [
    {
     "data": {
      "text/plain": [
       "['__annotations__',\n",
       " '__builtins__',\n",
       " '__call__',\n",
       " '__class__',\n",
       " '__closure__',\n",
       " '__code__',\n",
       " '__defaults__',\n",
       " '__delattr__',\n",
       " '__dict__',\n",
       " '__dir__',\n",
       " '__doc__',\n",
       " '__eq__',\n",
       " '__format__',\n",
       " '__ge__',\n",
       " '__get__',\n",
       " '__getattribute__',\n",
       " '__getstate__',\n",
       " '__globals__',\n",
       " '__gt__',\n",
       " '__hash__',\n",
       " '__init__',\n",
       " '__init_subclass__',\n",
       " '__kwdefaults__',\n",
       " '__le__',\n",
       " '__lt__',\n",
       " '__module__',\n",
       " '__name__',\n",
       " '__ne__',\n",
       " '__new__',\n",
       " '__qualname__',\n",
       " '__reduce__',\n",
       " '__reduce_ex__',\n",
       " '__repr__',\n",
       " '__setattr__',\n",
       " '__sizeof__',\n",
       " '__str__',\n",
       " '__subclasshook__',\n",
       " '__type_params__']"
      ]
     },
     "execution_count": 4,
     "metadata": {},
     "output_type": "execute_result"
    }
   ],
   "source": [
    "dir(fonk)"
   ]
  },
  {
   "cell_type": "markdown",
   "metadata": {},
   "source": [
    "## return"
   ]
  },
  {
   "cell_type": "code",
   "execution_count": 10,
   "metadata": {},
   "outputs": [
    {
     "data": {
      "text/plain": [
       "6"
      ]
     },
     "execution_count": 10,
     "metadata": {},
     "output_type": "execute_result"
    }
   ],
   "source": [
    "def fonk():\n",
    "    return 2+4\n",
    "sonuc = fonk()\n",
    "sonuc"
   ]
  },
  {
   "cell_type": "code",
   "execution_count": 13,
   "metadata": {},
   "outputs": [
    {
     "data": {
      "text/plain": [
       "(6, 2, 4)"
      ]
     },
     "execution_count": 13,
     "metadata": {},
     "output_type": "execute_result"
    }
   ],
   "source": [
    "def fonk():\n",
    "    return 2+4,2,4\n",
    "sonuc = fonk()\n",
    "sonuc"
   ]
  },
  {
   "cell_type": "markdown",
   "metadata": {},
   "source": [
    "## parametre tanımları\n",
    "- isimli parametre\n",
    "- `*args`\n",
    "- `**kwargs`"
   ]
  },
  {
   "cell_type": "code",
   "execution_count": 14,
   "metadata": {},
   "outputs": [
    {
     "data": {
      "text/plain": [
       "5"
      ]
     },
     "execution_count": 14,
     "metadata": {},
     "output_type": "execute_result"
    }
   ],
   "source": [
    "def fonk(a,b):\n",
    "    return a+b\n",
    "fonk(2,3)"
   ]
  },
  {
   "cell_type": "code",
   "execution_count": 16,
   "metadata": {},
   "outputs": [
    {
     "name": "stdout",
     "output_type": "stream",
     "text": [
      "<class 'int'>\n",
      "<class 'str'>\n",
      "<class 'list'>\n"
     ]
    }
   ],
   "source": [
    "print(type(fonk(2,3)))\n",
    "print(type(fonk(\"2\",\"3\")))\n",
    "print(type(fonk([2,3] , [3,4])))"
   ]
  },
  {
   "cell_type": "code",
   "execution_count": 17,
   "metadata": {},
   "outputs": [
    {
     "data": {
      "text/plain": [
       "9"
      ]
     },
     "execution_count": 17,
     "metadata": {},
     "output_type": "execute_result"
    }
   ],
   "source": [
    "def fonk(a,b,c=0):\n",
    "    return a+b+c\n",
    "fonk(2,3)\n",
    "fonk(2,3,4)"
   ]
  },
  {
   "cell_type": "code",
   "execution_count": 20,
   "metadata": {},
   "outputs": [],
   "source": [
    "def fonk(a,b,c=0,d=0):\n",
    "    return a+b+c+d"
   ]
  },
  {
   "cell_type": "code",
   "execution_count": 21,
   "metadata": {},
   "outputs": [
    {
     "data": {
      "text/plain": [
       "7"
      ]
     },
     "execution_count": 21,
     "metadata": {},
     "output_type": "execute_result"
    }
   ],
   "source": [
    "fonk(b=2,a=2,d=3)"
   ]
  },
  {
   "cell_type": "code",
   "execution_count": 22,
   "metadata": {},
   "outputs": [],
   "source": [
    "def fonk(a,b,/,c,d,*,e,f):\n",
    "    return a+b+c+d+e+f"
   ]
  },
  {
   "cell_type": "code",
   "execution_count": 25,
   "metadata": {},
   "outputs": [
    {
     "data": {
      "text/plain": [
       "21"
      ]
     },
     "execution_count": 25,
     "metadata": {},
     "output_type": "execute_result"
    }
   ],
   "source": [
    "fonk(1,2,3,4,e=5,f=6)"
   ]
  },
  {
   "cell_type": "markdown",
   "metadata": {},
   "source": [
    "`*args`"
   ]
  },
  {
   "cell_type": "code",
   "execution_count": 26,
   "metadata": {},
   "outputs": [
    {
     "name": "stdout",
     "output_type": "stream",
     "text": [
      "()\n",
      "<class 'tuple'>\n",
      "(1, 2, 2, 3, 3, 4)\n",
      "<class 'tuple'>\n",
      "(1, 2, 3)\n",
      "<class 'tuple'>\n"
     ]
    }
   ],
   "source": [
    "def fonk(*args):\n",
    "    print(args)\n",
    "    print(type(args))\n",
    "fonk()\n",
    "fonk(1,2,2,3,3,4)\n",
    "fonk(1,2,3)"
   ]
  },
  {
   "cell_type": "code",
   "execution_count": 27,
   "metadata": {},
   "outputs": [
    {
     "name": "stdout",
     "output_type": "stream",
     "text": [
      "(0, 1, 2, 3, 4, 5, 6, 7, 8, 9)\n",
      "<class 'tuple'>\n"
     ]
    }
   ],
   "source": [
    "fonk(*range(10))"
   ]
  },
  {
   "cell_type": "markdown",
   "metadata": {},
   "source": [
    "`**kwargs`"
   ]
  },
  {
   "cell_type": "code",
   "execution_count": 28,
   "metadata": {},
   "outputs": [
    {
     "name": "stdout",
     "output_type": "stream",
     "text": [
      "{}\n",
      "<class 'dict'>\n",
      "{'a': 2, 'b': 2}\n",
      "<class 'dict'>\n",
      "{'t': 20, 'y': 40}\n",
      "<class 'dict'>\n"
     ]
    }
   ],
   "source": [
    "def fonk(**kwargs):\n",
    "    print(kwargs)\n",
    "    print(type(kwargs))\n",
    "fonk()\n",
    "fonk(a=2,b=2)\n",
    "fonk(t=20,y=40)"
   ]
  },
  {
   "cell_type": "code",
   "execution_count": 29,
   "metadata": {},
   "outputs": [
    {
     "name": "stdout",
     "output_type": "stream",
     "text": [
      "1 2\n",
      "(3, 4, 5, 6, 7, 8, 9)\n",
      "{'son': 10}\n"
     ]
    }
   ],
   "source": [
    "def fonk(a,b,*args,**kwargs):\n",
    "    print(a,b)\n",
    "    print(args)\n",
    "    print(kwargs)\n",
    "fonk(1,2,3,4,5,6,7,8,9,son=10)"
   ]
  },
  {
   "cell_type": "code",
   "execution_count": 33,
   "metadata": {},
   "outputs": [
    {
     "data": {
      "text/plain": [
       "4"
      ]
     },
     "execution_count": 33,
     "metadata": {},
     "output_type": "execute_result"
    }
   ],
   "source": [
    "liste = [1,2,3,4]\n",
    "liste = iter(liste)\n",
    "next(liste)\n",
    "next(liste)\n",
    "next(liste)\n",
    "next(liste)"
   ]
  },
  {
   "cell_type": "code",
   "execution_count": 34,
   "metadata": {},
   "outputs": [
    {
     "name": "stdout",
     "output_type": "stream",
     "text": [
      "1 3 5 7 9\n"
     ]
    }
   ],
   "source": [
    "print(*range(1,10,2))"
   ]
  },
  {
   "cell_type": "markdown",
   "metadata": {},
   "source": [
    "## yield"
   ]
  },
  {
   "cell_type": "code",
   "execution_count": null,
   "metadata": {},
   "outputs": [
    {
     "name": "stdout",
     "output_type": "stream",
     "text": [
      "Enes\n",
      "Yusuf\n",
      "Furkan\n"
     ]
    }
   ],
   "source": [
    "liste = [\"İbrahim\", \"Seyfullah\", \"Fatih\", \"Furkan\", \"Mustafa\", \"Tolga\",\"Melis\",\"Enes\",\"Yusuf\",\n",
    "\"Özge\",\"Gizem\",\"İpek\",\n",
    "         ]\n",
    "def fonk(population):\n",
    "    import random as rnd\n",
    "    for item in rnd.choices(population,k=3):\n",
    "        yield item\n",
    "import time\n",
    "for item in fonk(liste):\n",
    "    time.sleep(1)\n",
    "    print(item)"
   ]
  },
  {
   "cell_type": "code",
   "execution_count": 48,
   "metadata": {},
   "outputs": [
    {
     "data": {
      "text/plain": [
       "(function, generator)"
      ]
     },
     "execution_count": 48,
     "metadata": {},
     "output_type": "execute_result"
    }
   ],
   "source": [
    "type(fonk),type(fonk(liste))"
   ]
  },
  {
   "cell_type": "code",
   "execution_count": 41,
   "metadata": {},
   "outputs": [
    {
     "name": "stdout",
     "output_type": "stream",
     "text": [
      "Seyfullah Furkan Yusuf\n"
     ]
    }
   ],
   "source": [
    "print(*fonk(liste))"
   ]
  },
  {
   "cell_type": "code",
   "execution_count": 44,
   "metadata": {},
   "outputs": [
    {
     "data": {
      "text/plain": [
       "('İbrahim', 'Gizem', 'Furkan')"
      ]
     },
     "execution_count": 44,
     "metadata": {},
     "output_type": "execute_result"
    }
   ],
   "source": [
    "sonuc = fonk(liste)\n",
    "next(sonuc),next(sonuc),next(sonuc)"
   ]
  },
  {
   "cell_type": "markdown",
   "metadata": {},
   "source": [
    "## lambda"
   ]
  },
  {
   "cell_type": "code",
   "execution_count": 49,
   "metadata": {},
   "outputs": [],
   "source": [
    "def fonk(a,b):\n",
    "    return a+b\n",
    "fonk = lambda x,y:x+y"
   ]
  },
  {
   "cell_type": "code",
   "execution_count": null,
   "metadata": {},
   "outputs": [
    {
     "data": {
      "image/jpeg": "[encoded data removed]",
      "text/html": [
       "\n",
       "        <iframe\n",
       "            width=\"400\"\n",
       "            height=\"300\"\n",
       "            src=\"https://www.youtube.com/embed/wLg04uu2j2o\"\n",
       "            frameborder=\"0\"\n",
       "            allowfullscreen\n",
       "            \n",
       "        ></iframe>\n",
       "        "
      ],
      "text/plain": [
       "<IPython.lib.display.YouTubeVideo at 0x263107587d0>"
      ]
     },
     "metadata": {},
     "output_type": "display_data"
    }
   ],
   "source": [
    "# from IPython.display import YouTubeVideo, display\n",
    "# vid = YouTubeVideo(\"wLg04uu2j2o\")\n",
    "# display(vid)"
   ]
  },
  {
   "cell_type": "markdown",
   "metadata": {},
   "source": [
    "## global & nonlocal"
   ]
  },
  {
   "cell_type": "code",
   "execution_count": null,
   "metadata": {},
   "outputs": [
    {
     "name": "stdout",
     "output_type": "stream",
     "text": [
      "1. Dışarıdan a: 1\n",
      "Üst Fonksiyondan a: 2\n",
      "{'a': 2}\n",
      "2. Dışarıdan a: 1\n"
     ]
    }
   ],
   "source": [
    "a = 1\n",
    "def fonk():\n",
    "    a = 2\n",
    "    print(\"Üst Fonksiyondan a:\",a)\n",
    "print(\"1. Dışarıdan a:\",a)\n",
    "fonk()\n",
    "print(\"2. Dışarıdan a:\",a)"
   ]
  },
  {
   "cell_type": "code",
   "execution_count": 62,
   "metadata": {},
   "outputs": [
    {
     "name": "stdout",
     "output_type": "stream",
     "text": [
      "1. Dışarıdan a: 1\n",
      "Üst Fonksiyondan a: 2\n",
      "2. Dışarıdan a: 2\n"
     ]
    }
   ],
   "source": [
    "a = 1\n",
    "def fonk():\n",
    "    global a\n",
    "    a = 2\n",
    "    print(\"Üst Fonksiyondan a:\",a)\n",
    "print(\"1. Dışarıdan a:\",a)\n",
    "fonk()\n",
    "print(\"2. Dışarıdan a:\",a)"
   ]
  },
  {
   "cell_type": "code",
   "execution_count": 63,
   "metadata": {},
   "outputs": [
    {
     "name": "stdout",
     "output_type": "stream",
     "text": [
      "1. Dışarıdan a: 1\n",
      "1 . Üst Fonksiyondan a: 2\n",
      "İç Fonksiyondan a: 3\n",
      "2 . Üst Fonksiyondan a: 2\n",
      "2. Dışarıdan a: 1\n"
     ]
    }
   ],
   "source": [
    "a = 1\n",
    "def fonk():\n",
    "    a = 2\n",
    "    print(\"1 . Üst Fonksiyondan a:\",a)\n",
    "    def icFonk():\n",
    "        a = 3\n",
    "        print(\"İç Fonksiyondan a:\",a)\n",
    "    icFonk()\n",
    "    print(\"2 . Üst Fonksiyondan a:\",a)\n",
    "print(\"1. Dışarıdan a:\",a)\n",
    "fonk()\n",
    "print(\"2. Dışarıdan a:\",a)"
   ]
  },
  {
   "cell_type": "code",
   "execution_count": 64,
   "metadata": {},
   "outputs": [
    {
     "name": "stdout",
     "output_type": "stream",
     "text": [
      "1. Dışarıdan a: 1\n",
      "1 . Üst Fonksiyondan a: 2\n",
      "İç Fonksiyondan a: 3\n",
      "2 . Üst Fonksiyondan a: 2\n",
      "2. Dışarıdan a: 3\n"
     ]
    }
   ],
   "source": [
    "a = 1\n",
    "def fonk():\n",
    "    a = 2\n",
    "    print(\"1 . Üst Fonksiyondan a:\",a)\n",
    "    def icFonk():\n",
    "        global a\n",
    "        a = 3\n",
    "        print(\"İç Fonksiyondan a:\",a)\n",
    "    icFonk()\n",
    "    print(\"2 . Üst Fonksiyondan a:\",a)\n",
    "print(\"1. Dışarıdan a:\",a)\n",
    "fonk()\n",
    "print(\"2. Dışarıdan a:\",a)"
   ]
  },
  {
   "cell_type": "code",
   "execution_count": null,
   "metadata": {},
   "outputs": [
    {
     "name": "stdout",
     "output_type": "stream",
     "text": [
      "1. Dışarıdan a: 1\n",
      "1 . Üst Fonksiyondan a: 2\n",
      "İç Fonksiyondan a: 3\n",
      "2 . Üst Fonksiyondan a: 3\n",
      "2. Dışarıdan a: 1\n"
     ]
    }
   ],
   "source": [
    "a = 1\n",
    "def fonk():\n",
    "    a = 2\n",
    "    print(\"1 . Üst Fonksiyondan a:\",a)\n",
    "    def icFonk():\n",
    "        nonlocal a \n",
    "        a = 3\n",
    "        print(\"İç Fonksiyondan a:\",a)\n",
    "    icFonk()\n",
    "    print(\"2 . Üst Fonksiyondan a:\",a)\n",
    "print(\"1. Dışarıdan a:\",a)\n",
    "fonk()\n",
    "print(\"2. Dışarıdan a:\",a)"
   ]
  },
  {
   "cell_type": "code",
   "execution_count": 68,
   "metadata": {},
   "outputs": [
    {
     "name": "stdout",
     "output_type": "stream",
     "text": [
      "1. Dışarıdan a: 1\n",
      "[1, 2]\n",
      "1 . Üst Fonksiyondan a: 2\n",
      "İç Fonksiyondan a: 3\n",
      "2 . Üst Fonksiyondan a: 3\n",
      "2. Dışarıdan a: 1\n",
      "[1, 2, 3, 4]\n"
     ]
    }
   ],
   "source": [
    "a = 1\n",
    "b = [1,2]\n",
    "def fonk():\n",
    "    print(b)\n",
    "    b.append(3)\n",
    "    a = 2\n",
    "    print(\"1 . Üst Fonksiyondan a:\",a)\n",
    "    def icFonk():\n",
    "        b.append(4)\n",
    "        nonlocal a \n",
    "        a = 3\n",
    "        print(\"İç Fonksiyondan a:\",a)\n",
    "    icFonk()\n",
    "    print(\"2 . Üst Fonksiyondan a:\",a)\n",
    "print(\"1. Dışarıdan a:\",a)\n",
    "fonk()\n",
    "print(\"2. Dışarıdan a:\",a)\n",
    "print(b)"
   ]
  },
  {
   "cell_type": "markdown",
   "metadata": {},
   "source": [
    "## recursion"
   ]
  },
  {
   "cell_type": "code",
   "execution_count": 81,
   "metadata": {},
   "outputs": [
    {
     "data": {
      "text/plain": [
       "120"
      ]
     },
     "execution_count": 81,
     "metadata": {},
     "output_type": "execute_result"
    }
   ],
   "source": [
    "def fonk(a):\n",
    "    if a == 1:\n",
    "        return 1\n",
    "    return fonk(a-1)*a\n",
    "fonk(5)"
   ]
  },
  {
   "cell_type": "markdown",
   "metadata": {},
   "source": [
    "## built-ins\n",
    "* map\n",
    "* filter\n",
    "* zip\n",
    "* enumerate\n",
    "* sorted\n",
    "* all,any\n",
    "* exec,eval\n",
    "* sum,min,max\n"
   ]
  },
  {
   "cell_type": "code",
   "execution_count": 96,
   "metadata": {},
   "outputs": [
    {
     "name": "stdout",
     "output_type": "stream",
     "text": [
      "<map object at 0x000002631043DDB0>\n",
      "1 8 27 64 125\n",
      "[1, 8, 27, 64, 125]\n"
     ]
    }
   ],
   "source": [
    "# map\n",
    "liste = [1,2,3,4,5]\n",
    "print(map(lambda x:x**3,liste))\n",
    "print(*map(lambda x:x**3,liste))\n",
    "print(list(map(lambda x:x**3,liste)))"
   ]
  },
  {
   "cell_type": "code",
   "execution_count": 89,
   "metadata": {},
   "outputs": [
    {
     "name": "stdout",
     "output_type": "stream",
     "text": [
      "<map object at 0x000002631042DEA0>\n",
      "1 8 27 64 125\n",
      "[1, 8, 27, 64, 125]\n"
     ]
    }
   ],
   "source": [
    "liste = [1,2,3,4,5]\n",
    "def fonk(x):\n",
    "    return x**3\n",
    "print(map(fonk,liste))\n",
    "print(*map(fonk,liste))\n",
    "print(list(map(fonk,liste)))"
   ]
  },
  {
   "cell_type": "code",
   "execution_count": 91,
   "metadata": {},
   "outputs": [
    {
     "name": "stdout",
     "output_type": "stream",
     "text": [
      "<map object at 0x0000026310341E40>\n",
      "68 86 65\n",
      "[68, 86, 65]\n"
     ]
    }
   ],
   "source": [
    "liste = \"DVA\"\n",
    "def fonk(x):\n",
    "    return ord(x)\n",
    "print(map(fonk,liste))\n",
    "print(*map(fonk,liste))\n",
    "print(list(map(fonk,liste)))"
   ]
  },
  {
   "cell_type": "code",
   "execution_count": 95,
   "metadata": {},
   "outputs": [
    {
     "name": "stdout",
     "output_type": "stream",
     "text": [
      "<map object at 0x00000263101C5E10>\n",
      "(68, 86, 65) (80, 89, 84) (69, 68, 90)\n",
      "[(68, 86, 65), (80, 89, 84), (69, 68, 90)]\n"
     ]
    }
   ],
   "source": [
    "liste = [\"DVA\",\"PYT\",\"EDZ\"]\n",
    "def fonk(a):\n",
    "    return ord(a[0]),ord(a[1]),ord(a[2])\n",
    "print(map(fonk,liste))\n",
    "print(*map(fonk,liste))\n",
    "print(list(map(fonk,liste)))"
   ]
  },
  {
   "cell_type": "code",
   "execution_count": null,
   "metadata": {},
   "outputs": [
    {
     "name": "stdout",
     "output_type": "stream",
     "text": [
      "<filter object at 0x00000263104487F0>\n",
      "2 4\n",
      "[2, 4]\n"
     ]
    }
   ],
   "source": [
    "# filter\n",
    "def fonk(x):\n",
    "    return x % 2 == 0\n",
    "liste = [1,2,3,4,5]\n",
    "print(filter(fonk,liste))\n",
    "print(*filter(fonk,liste))\n",
    "print(list(filter(fonk,liste)))"
   ]
  },
  {
   "cell_type": "code",
   "execution_count": 100,
   "metadata": {},
   "outputs": [
    {
     "name": "stdout",
     "output_type": "stream",
     "text": [
      "2 3 5 7 11 13 17 19 23 29 31 37 41 43 47 53 59 61 67 71 73 79 83 89 97\n"
     ]
    }
   ],
   "source": [
    "def asalmi(n):\n",
    "    return n > 1 and all([n % i != 0 for i in range(2,int(n**0.5)+1)])\n",
    "print(*filter(asalmi,[i for i in range(100)]))"
   ]
  },
  {
   "cell_type": "code",
   "execution_count": null,
   "metadata": {},
   "outputs": [
    {
     "data": {
      "text/plain": [
       "4"
      ]
     },
     "execution_count": 102,
     "metadata": {},
     "output_type": "execute_result"
    }
   ],
   "source": [
    "# int(17**0.5)  2 3 4 "
   ]
  },
  {
   "cell_type": "markdown",
   "metadata": {},
   "source": [
    "all,any"
   ]
  },
  {
   "cell_type": "code",
   "execution_count": null,
   "metadata": {},
   "outputs": [
    {
     "name": "stdout",
     "output_type": "stream",
     "text": [
      "Dolu\n"
     ]
    }
   ],
   "source": [
    "# a = 1\n",
    "# b = \"\"\n",
    "# c = []\n",
    "# if a:\n",
    "#     print(\"Dolu\")"
   ]
  },
  {
   "cell_type": "code",
   "execution_count": 107,
   "metadata": {},
   "outputs": [
    {
     "data": {
      "text/plain": [
       "(False, True)"
      ]
     },
     "execution_count": 107,
     "metadata": {},
     "output_type": "execute_result"
    }
   ],
   "source": [
    "liste = [0,\"\",(),[1],{}]\n",
    "all(liste),any(liste)"
   ]
  },
  {
   "cell_type": "code",
   "execution_count": 108,
   "metadata": {},
   "outputs": [
    {
     "data": {
      "text/plain": [
       "(True, True)"
      ]
     },
     "execution_count": 108,
     "metadata": {},
     "output_type": "execute_result"
    }
   ],
   "source": [
    "liste = [1,\" \",(1,),[1],{\"1\":\"Bir\"}]\n",
    "all(liste),any(liste)"
   ]
  },
  {
   "cell_type": "code",
   "execution_count": 110,
   "metadata": {},
   "outputs": [
    {
     "data": {
      "text/plain": [
       "120"
      ]
     },
     "execution_count": 110,
     "metadata": {},
     "output_type": "execute_result"
    }
   ],
   "source": [
    "from functools import reduce\n",
    "\n",
    "liste = [1,2,3,4,5]\n",
    "reduce(lambda x,y:x*y,liste)"
   ]
  },
  {
   "cell_type": "code",
   "execution_count": 111,
   "metadata": {},
   "outputs": [
    {
     "data": {
      "text/plain": [
       "Counter({'D': 1,\n",
       "         'V': 1,\n",
       "         'A': 1,\n",
       "         ' ': 1,\n",
       "         'p': 1,\n",
       "         'y': 1,\n",
       "         't': 1,\n",
       "         'h': 1,\n",
       "         'o': 1,\n",
       "         'n': 1})"
      ]
     },
     "execution_count": 111,
     "metadata": {},
     "output_type": "execute_result"
    }
   ],
   "source": [
    "from collections import Counter\n",
    "metin = \"DVA python\"\n",
    "Counter(metin)"
   ]
  },
  {
   "cell_type": "code",
   "execution_count": 115,
   "metadata": {},
   "outputs": [
    {
     "name": "stdout",
     "output_type": "stream",
     "text": [
      "<zip object at 0x0000026311357400>\n",
      "('a', 1) ('b', 2) ('c', 3) ('d', 4)\n",
      "[('a', 1), ('b', 2), ('c', 3), ('d', 4)]\n"
     ]
    },
    {
     "data": {
      "text/plain": [
       "'c'"
      ]
     },
     "execution_count": 115,
     "metadata": {},
     "output_type": "execute_result"
    }
   ],
   "source": [
    "l1 = [\"a\",\"b\",\"c\",\"d\"]\n",
    "l2 = [1,2,3,4]\n",
    "print(zip(l1,l2))\n",
    "print(*zip(l1,l2))\n",
    "print(list(zip(l1,l2)))\n",
    "sonuc = list(zip(l1,l2))\n",
    "sonuc[2][0]"
   ]
  },
  {
   "cell_type": "code",
   "execution_count": 117,
   "metadata": {},
   "outputs": [
    {
     "name": "stdout",
     "output_type": "stream",
     "text": [
      "[('a', 'b', 'c', 'd'), (1, 2, 3, 4)]\n"
     ]
    }
   ],
   "source": [
    "print(list(zip(*zip(l1,l2))))"
   ]
  },
  {
   "cell_type": "code",
   "execution_count": 119,
   "metadata": {},
   "outputs": [
    {
     "data": {
      "text/plain": [
       "{'a': 1, 'b': 2, 'c': 3, 'd': 4}"
      ]
     },
     "execution_count": 119,
     "metadata": {},
     "output_type": "execute_result"
    }
   ],
   "source": [
    "sozluk = {}\n",
    "sozluk.update(zip(l1,l2))\n",
    "sozluk"
   ]
  },
  {
   "cell_type": "code",
   "execution_count": 130,
   "metadata": {},
   "outputs": [
    {
     "ename": "ValueError",
     "evalue": "zip() argument 2 is shorter than argument 1",
     "output_type": "error",
     "traceback": [
      "\u001b[1;31m---------------------------------------------------------------------------\u001b[0m",
      "\u001b[1;31mValueError\u001b[0m                                Traceback (most recent call last)",
      "Cell \u001b[1;32mIn[130], line 3\u001b[0m\n\u001b[0;32m      1\u001b[0m l1 \u001b[38;5;241m=\u001b[39m [\u001b[38;5;124m\"\u001b[39m\u001b[38;5;124ma\u001b[39m\u001b[38;5;124m\"\u001b[39m,\u001b[38;5;124m\"\u001b[39m\u001b[38;5;124mb\u001b[39m\u001b[38;5;124m\"\u001b[39m,\u001b[38;5;124m\"\u001b[39m\u001b[38;5;124mc\u001b[39m\u001b[38;5;124m\"\u001b[39m,\u001b[38;5;124m\"\u001b[39m\u001b[38;5;124md\u001b[39m\u001b[38;5;124m\"\u001b[39m,\u001b[38;5;124m\"\u001b[39m\u001b[38;5;124me\u001b[39m\u001b[38;5;124m\"\u001b[39m]\n\u001b[0;32m      2\u001b[0m l2 \u001b[38;5;241m=\u001b[39m [\u001b[38;5;241m1\u001b[39m,\u001b[38;5;241m2\u001b[39m,\u001b[38;5;241m3\u001b[39m,\u001b[38;5;241m4\u001b[39m]\n\u001b[1;32m----> 3\u001b[0m \u001b[38;5;28;43mprint\u001b[39;49m\u001b[43m(\u001b[49m\u001b[38;5;241;43m*\u001b[39;49m\u001b[38;5;28;43mzip\u001b[39;49m\u001b[43m(\u001b[49m\u001b[43ml1\u001b[49m\u001b[43m,\u001b[49m\u001b[43ml2\u001b[49m\u001b[43m,\u001b[49m\u001b[43mstrict\u001b[49m\u001b[38;5;241;43m=\u001b[39;49m\u001b[38;5;28;43;01mTrue\u001b[39;49;00m\u001b[43m)\u001b[49m\u001b[43m)\u001b[49m\n\u001b[0;32m      4\u001b[0m \u001b[38;5;66;03m# print(*zip(l1,l2))\u001b[39;00m\n\u001b[0;32m      5\u001b[0m \u001b[38;5;66;03m# print(list(zip(l1,l2)))\u001b[39;00m\n\u001b[0;32m      6\u001b[0m \u001b[38;5;66;03m# sonuc = list(zip(l1,l2))\u001b[39;00m\n",
      "\u001b[1;31mValueError\u001b[0m: zip() argument 2 is shorter than argument 1"
     ]
    }
   ],
   "source": [
    "l1 = [\"a\",\"b\",\"c\",\"d\",\"e\"]\n",
    "l2 = [1,2,3,4]\n",
    "print(*zip(l1,l2,strict=True))\n",
    "# print(*zip(l1,l2))\n",
    "# print(list(zip(l1,l2)))\n",
    "# sonuc = list(zip(l1,l2))"
   ]
  },
  {
   "cell_type": "code",
   "execution_count": 134,
   "metadata": {},
   "outputs": [
    {
     "name": "stdout",
     "output_type": "stream",
     "text": [
      "<enumerate object at 0x00000263113DF060>\n",
      "(0, 'a') (1, 'b') (2, 'c') (3, 'd')\n",
      "[(5, 'a'), (6, 'b'), (7, 'c'), (8, 'd')]\n"
     ]
    }
   ],
   "source": [
    "liste = [\"a\",\"b\",\"c\",\"d\"]\n",
    "print(enumerate(liste))\n",
    "print(*enumerate(liste))\n",
    "print(list(enumerate(liste,5)))"
   ]
  },
  {
   "cell_type": "code",
   "execution_count": 135,
   "metadata": {},
   "outputs": [
    {
     "data": {
      "text/plain": [
       "['ali', 'sevgi', 'zeynep', 'çiğdem', 'şule']"
      ]
     },
     "execution_count": 135,
     "metadata": {},
     "output_type": "execute_result"
    }
   ],
   "source": [
    "liste = [\"ali\",\"çiğdem\",\"zeynep\",\"şule\",\"sevgi\"]\n",
    "liste.sort()\n",
    "liste"
   ]
  },
  {
   "cell_type": "code",
   "execution_count": 138,
   "metadata": {},
   "outputs": [
    {
     "data": {
      "text/plain": [
       "(['ali', 'sevgi', 'zeynep', 'çiğdem', 'şule'],\n",
       " ['ali', 'çiğdem', 'zeynep', 'şule', 'sevgi'])"
      ]
     },
     "execution_count": 138,
     "metadata": {},
     "output_type": "execute_result"
    }
   ],
   "source": [
    "liste = [\"ali\",\"çiğdem\",\"zeynep\",\"şule\",\"sevgi\"]\n",
    "sorted(liste),liste"
   ]
  },
  {
   "cell_type": "code",
   "execution_count": 140,
   "metadata": {},
   "outputs": [
    {
     "data": {
      "text/plain": [
       "['ali', 'çiğdem', 'sevgi', 'şule', 'zeynep']"
      ]
     },
     "execution_count": 140,
     "metadata": {},
     "output_type": "execute_result"
    }
   ],
   "source": [
    "alfabe = \"abcçdefgğhıijklmnoöprsştuüvyz\"\n",
    "cevrim = {x:alfabe.index(x) for x in alfabe}\n",
    "cevrim\n",
    "sorted(liste,key=lambda a:cevrim.get(a[0]))"
   ]
  },
  {
   "cell_type": "code",
   "execution_count": null,
   "metadata": {},
   "outputs": [],
   "source": [
    "map(lambda x:x,alfabe.index(x))"
   ]
  }
 ],
 "metadata": {
  "kernelspec": {
   "display_name": "Python 3",
   "language": "python",
   "name": "python3"
  },
  "language_info": {
   "codemirror_mode": {
    "name": "ipython",
    "version": 3
   },
   "file_extension": ".py",
   "mimetype": "text/x-python",
   "name": "python",
   "nbconvert_exporter": "python",
   "pygments_lexer": "ipython3",
   "version": "3.13.0"
  }
 },
 "nbformat": 4,
 "nbformat_minor": 2
}
