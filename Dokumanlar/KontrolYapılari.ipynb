{
 "cells": [
  {
   "cell_type": "markdown",
   "metadata": {},
   "source": [
    "# Kontrol Yapıları\n",
    " * Karar Yapıları\n",
    "    - if, else, elif\n",
    " * Döngüler\n",
    "    - range\n",
    "    - while\n",
    "    - for\n",
    "    - break\n",
    "    - continue\n",
    "    - else"
   ]
  },
  {
   "cell_type": "code",
   "execution_count": 3,
   "metadata": {},
   "outputs": [
    {
     "name": "stdout",
     "output_type": "stream",
     "text": [
      "Merhaba 12\n"
     ]
    }
   ],
   "source": [
    "isim = input(\"İsminizi Giriniz:\")\n",
    "if isim:\n",
    "    print(\"Merhaba\",isim)\n",
    "else:\n",
    "    print(\"Merhaba\")"
   ]
  },
  {
   "cell_type": "code",
   "execution_count": null,
   "metadata": {},
   "outputs": [],
   "source": []
  },
  {
   "cell_type": "code",
   "execution_count": null,
   "metadata": {},
   "outputs": [
    {
     "data": {
      "text/plain": [
       "True"
      ]
     },
     "execution_count": 4,
     "metadata": {},
     "output_type": "execute_result"
    }
   ],
   "source": [
    "a = 2\n",
    "if a % 3> 0:\n",
    "    print(\"3 e bölünemez\")\n",
    "elif a % 2 > 0:\n",
    "    print(\"2 ye tam bölünemez\")\n",
    "else:\n",
    "    print(\"Hata\")"
   ]
  },
  {
   "cell_type": "code",
   "execution_count": 6,
   "metadata": {},
   "outputs": [
    {
     "name": "stdout",
     "output_type": "stream",
     "text": [
      "Çift\n"
     ]
    }
   ],
   "source": [
    "a = 2 \n",
    "sonuc = \"Çift\"  if a % 2 == 0 else \"Tek\"\n",
    "print(sonuc)"
   ]
  },
  {
   "cell_type": "code",
   "execution_count": 7,
   "metadata": {},
   "outputs": [
    {
     "name": "stdout",
     "output_type": "stream",
     "text": [
      "Çift\n"
     ]
    }
   ],
   "source": [
    "a = 2\n",
    "match a % 2:\n",
    "    case 1:\n",
    "        print(\"Tek\")\n",
    "    case 0:\n",
    "        print(\"Çift\")\n",
    "    case _:\n",
    "        print(\"Hata\")\n",
    "    "
   ]
  },
  {
   "cell_type": "markdown",
   "metadata": {},
   "source": [
    "## Döngüler\n"
   ]
  },
  {
   "cell_type": "code",
   "execution_count": 8,
   "metadata": {},
   "outputs": [
    {
     "name": "stdout",
     "output_type": "stream",
     "text": [
      "0 1 2 3 4 5 6 7 8 9\n"
     ]
    }
   ],
   "source": [
    "# for (int i=0;i<10;i++){\n",
    "    \n",
    "# }\n",
    "print(*range(10))"
   ]
  },
  {
   "cell_type": "code",
   "execution_count": 9,
   "metadata": {},
   "outputs": [
    {
     "data": {
      "text/plain": [
       "range(0, 10)"
      ]
     },
     "execution_count": 9,
     "metadata": {},
     "output_type": "execute_result"
    }
   ],
   "source": [
    "range(10)"
   ]
  },
  {
   "cell_type": "code",
   "execution_count": 11,
   "metadata": {},
   "outputs": [
    {
     "name": "stdout",
     "output_type": "stream",
     "text": [
      "1;2;2;3;4\n"
     ]
    }
   ],
   "source": [
    "print(*[1,2,2,3,4],sep=\";\")"
   ]
  },
  {
   "cell_type": "code",
   "execution_count": 13,
   "metadata": {},
   "outputs": [
    {
     "name": "stdout",
     "output_type": "stream",
     "text": [
      "1 2 3 4 5 6 7 8 9\n",
      "1 3 5 7 9\n",
      "100 90 80 70 60 50 40 30 20\n"
     ]
    }
   ],
   "source": [
    "print(*range(1,10))\n",
    "print(*range(1,10,2))\n",
    "print(*range(100,10,-10))"
   ]
  },
  {
   "cell_type": "code",
   "execution_count": 14,
   "metadata": {},
   "outputs": [
    {
     "name": "stdout",
     "output_type": "stream",
     "text": [
      "0\n",
      "1\n",
      "2\n",
      "3\n",
      "4\n",
      "5\n",
      "6\n",
      "7\n",
      "8\n",
      "9\n"
     ]
    }
   ],
   "source": [
    "for i in range(10):\n",
    "    print(i)"
   ]
  },
  {
   "cell_type": "code",
   "execution_count": 19,
   "metadata": {},
   "outputs": [
    {
     "name": "stdout",
     "output_type": "stream",
     "text": [
      "1 10\n",
      "2 20\n",
      "3 30\n",
      "4 40\n",
      "5 50\n"
     ]
    }
   ],
   "source": [
    "l1 = [1,2,3,4,5]\n",
    "l2 = [10,20,30,40,50]\n",
    "for a,b in zip(l1,l2):\n",
    "    print(a,b)"
   ]
  },
  {
   "cell_type": "code",
   "execution_count": 20,
   "metadata": {},
   "outputs": [
    {
     "name": "stdout",
     "output_type": "stream",
     "text": [
      "1 2 3\n",
      "4 5 6\n",
      "7 8 9\n"
     ]
    }
   ],
   "source": [
    "l1 = [[1,2,3],[4,5,6],[7,8,9]]\n",
    "for a,b,c in l1:\n",
    "    print(a,b,c)"
   ]
  },
  {
   "cell_type": "code",
   "execution_count": 21,
   "metadata": {},
   "outputs": [
    {
     "name": "stdout",
     "output_type": "stream",
     "text": [
      "[1, 2, 3]\n",
      "[4, 5, 6]\n",
      "[7, 8, 9]\n"
     ]
    }
   ],
   "source": [
    "liste = [[1,2,3],[4,5,6],[7,8,9]]\n",
    "for item in liste:\n",
    "    print(item)"
   ]
  },
  {
   "cell_type": "code",
   "execution_count": 22,
   "metadata": {},
   "outputs": [
    {
     "name": "stdout",
     "output_type": "stream",
     "text": [
      "a 1\n",
      "b 2\n",
      "c 3\n"
     ]
    }
   ],
   "source": [
    "s1 = {\"a\":1,\"b\":2,\"c\":3}\n",
    "for key,value in s1.items():\n",
    "    print(key,value)"
   ]
  },
  {
   "cell_type": "code",
   "execution_count": 23,
   "metadata": {},
   "outputs": [
    {
     "data": {
      "text/plain": [
       "(dict_keys(['a', 'b', 'c']),\n",
       " dict_values([1, 2, 3]),\n",
       " dict_items([('a', 1), ('b', 2), ('c', 3)]))"
      ]
     },
     "execution_count": 23,
     "metadata": {},
     "output_type": "execute_result"
    }
   ],
   "source": [
    "s1.keys(),s1.values(),s1.items()"
   ]
  },
  {
   "cell_type": "code",
   "execution_count": 24,
   "metadata": {},
   "outputs": [
    {
     "name": "stdout",
     "output_type": "stream",
     "text": [
      "D\n",
      "V\n",
      "A\n",
      "P\n"
     ]
    }
   ],
   "source": [
    "for item in \"DVA Python\":\n",
    "    if item.isupper():\n",
    "        print(item)\n",
    "        "
   ]
  },
  {
   "cell_type": "markdown",
   "metadata": {},
   "source": [
    "\n",
    "armstrong sayısı\n",
    "`371 => 3**3 + 7**3 + 1**3`\n",
    "10 ile 100000 arasında bulunan armstrong sayılarını listeleyen python \n",
    "kodunu yazınız\n"
   ]
  },
  {
   "cell_type": "code",
   "execution_count": null,
   "metadata": {},
   "outputs": [
    {
     "name": "stdout",
     "output_type": "stream",
     "text": [
      "153\n",
      "370\n",
      "371\n",
      "407\n",
      "1634\n",
      "8208\n",
      "9474\n",
      "54748\n",
      "92727\n",
      "93084\n"
     ]
    }
   ],
   "source": [
    "for i in range(10,100000):\n",
    "    basamak = len(str(i)) # basamak tespiti için str dönüşümü\n",
    "    # ve len fonksiyonu ile uzunluk tespiti\n",
    "    toplam = 0\n",
    "    for item in str(i):\n",
    "        toplam += int(item)**basamak # sayıların basamak kuvveti ve toplamı\n",
    "    if i == toplam: # armstron sayısı mı ?\n",
    "        print(i)\n"
   ]
  },
  {
   "cell_type": "code",
   "execution_count": 27,
   "metadata": {},
   "outputs": [
    {
     "data": {
      "text/plain": [
       "[153, 370, 371, 407, 1634, 8208, 9474, 54748, 92727, 93084]"
      ]
     },
     "execution_count": 27,
     "metadata": {},
     "output_type": "execute_result"
    }
   ],
   "source": [
    "armstrong = lambda x: sum([int(item)**len(str(x)) for item in str(x)]) == x\n",
    "list(filter(armstrong,[ i for i in range(10,100000)]))"
   ]
  },
  {
   "cell_type": "markdown",
   "metadata": {},
   "source": [
    "iki açısı verilen bir üçgenin türünü aşağıda listenen ifadeler üzerinden ekrana yazan python programını yazınız\n",
    "* ikizkenar üçgen\n",
    "* dik üçgen\n",
    "* çeşitkenar üçgen\n",
    "* eşkenar üçgen"
   ]
  },
  {
   "cell_type": "code",
   "execution_count": null,
   "metadata": {},
   "outputs": [],
   "source": [
    "aci1 = input(\"1. Açıyı Giriniz:\")\n",
    "aci2 = input(\"2. Açıyı Giriniz:\")\n",
    "if aci1.isdigit() and aci2.isdigit():\n",
    "    aci1,aci2 = int(aci1),int(aci2)\n",
    "    liste = [aci1,aci2,180-(aci1+aci2)]\n",
    "    if sum(liste) == 180:\n",
    "        k1 = set(liste)\n",
    "        if len(k1) == 2:\n",
    "            print(\"İkizkenar Üçgen\")\n",
    "        elif len(k1) == 3:\n",
    "            print(\"Çeşitkenar Üçgen\")\n",
    "        else:\n",
    "            print(\"Eşkenar Üçgen\")\n",
    "        if 90 in k1:\n",
    "            print(\"Dik Üçgen\")\n",
    "    else:\n",
    "        print(\"Açı Değer Hatası\")\n",
    "else:\n",
    "    print(\"Giriş Hatası\")"
   ]
  },
  {
   "cell_type": "code",
   "execution_count": 28,
   "metadata": {},
   "outputs": [
    {
     "data": {
      "text/plain": [
       "[0, 1, 4, 9, 16, 25, 36, 49, 64, 81]"
      ]
     },
     "execution_count": 28,
     "metadata": {},
     "output_type": "execute_result"
    }
   ],
   "source": [
    "liste = [i**2 for i in range(10)]\n",
    "liste"
   ]
  },
  {
   "cell_type": "code",
   "execution_count": 30,
   "metadata": {},
   "outputs": [
    {
     "data": {
      "text/plain": [
       "[0, 4, 16, 36, 64]"
      ]
     },
     "execution_count": 30,
     "metadata": {},
     "output_type": "execute_result"
    }
   ],
   "source": [
    "liste = [i**2 for i in range(10) if i %2 == 0]\n",
    "liste"
   ]
  },
  {
   "cell_type": "code",
   "execution_count": 31,
   "metadata": {},
   "outputs": [
    {
     "data": {
      "text/plain": [
       "[153, 370, 371, 407, 1634, 8208, 9474, 54748, 92727, 93084]"
      ]
     },
     "execution_count": 31,
     "metadata": {},
     "output_type": "execute_result"
    }
   ],
   "source": [
    "armstrong = lambda x: sum([int(item)**len(str(x)) for item in str(x)]) == x\n",
    "[ i for i in range(10,100000) if armstrong(i)]"
   ]
  },
  {
   "cell_type": "code",
   "execution_count": 29,
   "metadata": {},
   "outputs": [
    {
     "data": {
      "text/plain": [
       "{0: 0, 1: 1, 2: 4, 3: 9, 4: 16, 5: 25, 6: 36, 7: 49, 8: 64, 9: 81}"
      ]
     },
     "execution_count": 29,
     "metadata": {},
     "output_type": "execute_result"
    }
   ],
   "source": [
    "sozluk = {i:i**2 for i in range(10)}\n",
    "sozluk"
   ]
  },
  {
   "cell_type": "code",
   "execution_count": 33,
   "metadata": {},
   "outputs": [
    {
     "name": "stdout",
     "output_type": "stream",
     "text": [
      "0\n",
      "1\n",
      "2\n",
      "3\n"
     ]
    }
   ],
   "source": [
    "anahtar = True\n",
    "a = 0\n",
    "while anahtar:\n",
    "    if a == 3:\n",
    "        anahtar = False\n",
    "    print(a)\n",
    "    a += 1"
   ]
  },
  {
   "cell_type": "code",
   "execution_count": 34,
   "metadata": {},
   "outputs": [
    {
     "name": "stdout",
     "output_type": "stream",
     "text": [
      "0\n",
      "1\n",
      "2\n",
      "Döngü Bitti\n"
     ]
    }
   ],
   "source": [
    "for i in range(3):\n",
    "    print(i)\n",
    "else:\n",
    "    print(\"Döngü Bitti\")"
   ]
  },
  {
   "cell_type": "code",
   "execution_count": 37,
   "metadata": {},
   "outputs": [
    {
     "name": "stdout",
     "output_type": "stream",
     "text": [
      "0\n",
      "1\n"
     ]
    }
   ],
   "source": [
    "for i in range(3):\n",
    "    print(i)\n",
    "    if i == 1:\n",
    "        break\n",
    "else:\n",
    "    print(\"Döngü Bitti\")"
   ]
  },
  {
   "cell_type": "code",
   "execution_count": 36,
   "metadata": {},
   "outputs": [
    {
     "name": "stdout",
     "output_type": "stream",
     "text": [
      "0\n",
      "2\n",
      "Döngü Bitti\n"
     ]
    }
   ],
   "source": [
    "for i in range(3):\n",
    "    if i == 1:\n",
    "        continue\n",
    "    print(i)\n",
    "else:\n",
    "    print(\"Döngü Bitti\")"
   ]
  },
  {
   "cell_type": "markdown",
   "metadata": {},
   "source": [
    "```\n",
    "# # Şifre üreten bir program yazarken aşağıda yer alan şartları kontrol etmemiz ve şifreyi üretmemiz gerekiyor.\n",
    "# # * en az 12 karakter uzunluğunda olacak\n",
    "# # * içerisinde en az bir küçük harf olacak\n",
    "# # * içerisinde en az bir büyük harf olacak\n",
    "# # * içerisinde en az bir rakam olacak\n",
    "# # * içerisinde en az bir noktalama işareti olacak\n",
    "# # -----\n",
    "# # bu programı yazarken aşağıdaki kodları kullanabilirsiniz:\n",
    "# # from random import choice\n",
    "# # from string import ascii_uppercase, ascii_lowercase, digits, punctuation\n",
    "# # ----\n",
    "```"
   ]
  },
  {
   "cell_type": "code",
   "execution_count": null,
   "metadata": {},
   "outputs": [],
   "source": [
    "https://codeshare.io/64LeVY"
   ]
  }
 ],
 "metadata": {
  "kernelspec": {
   "display_name": "Python 3",
   "language": "python",
   "name": "python3"
  },
  "language_info": {
   "codemirror_mode": {
    "name": "ipython",
    "version": 3
   },
   "file_extension": ".py",
   "mimetype": "text/x-python",
   "name": "python",
   "nbconvert_exporter": "python",
   "pygments_lexer": "ipython3",
   "version": "3.12.1"
  }
 },
 "nbformat": 4,
 "nbformat_minor": 2
}
