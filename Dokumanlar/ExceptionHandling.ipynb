{
 "cells": [
  {
   "cell_type": "markdown",
   "metadata": {},
   "source": [
    "# Hata Yakalama\n",
    "* try\n",
    "* except\n",
    "* finally\n",
    "* raise"
   ]
  },
  {
   "cell_type": "code",
   "execution_count": 3,
   "metadata": {},
   "outputs": [
    {
     "name": "stdout",
     "output_type": "stream",
     "text": [
      "2.5\n"
     ]
    }
   ],
   "source": [
    "a = int(input(\"1. Sayıyı Giriniz:\"))\n",
    "b = int(input(\"2. Sayıyı Giriniz:\"))\n",
    "print(a/b) # ValueError,ZeroDivisionError"
   ]
  },
  {
   "cell_type": "code",
   "execution_count": 5,
   "metadata": {},
   "outputs": [
    {
     "name": "stdout",
     "output_type": "stream",
     "text": [
      "invalid literal for int() with base 10: 'a'\n",
      "Çalışmaya Devam\n"
     ]
    }
   ],
   "source": [
    "try:\n",
    "    a = int(input(\"1. Sayıyı Giriniz:\"))\n",
    "    b = int(input(\"2. Sayıyı Giriniz:\"))\n",
    "    print(a/b) # ValueError,ZeroDivisionError\n",
    "except Exception as e:\n",
    "    print(e)\n",
    "print(\"Çalışmaya Devam\")"
   ]
  },
  {
   "cell_type": "code",
   "execution_count": 6,
   "metadata": {},
   "outputs": [
    {
     "name": "stdout",
     "output_type": "stream",
     "text": [
      "Değer hatası\n",
      "Çalışmaya Devam\n"
     ]
    }
   ],
   "source": [
    "try:\n",
    "    a = int(input(\"1. Sayıyı Giriniz:\"))\n",
    "    b = int(input(\"2. Sayıyı Giriniz:\"))\n",
    "    print(a/b) # ValueError,ZeroDivisionError\n",
    "except ValueError:\n",
    "    print(\"Değer hatası\")\n",
    "except ZeroDivisionError:\n",
    "    print(\"Sıfıra Bölme Hatası\")\n",
    "except Exception as e:\n",
    "    print(e)\n",
    "print(\"Çalışmaya Devam\")"
   ]
  },
  {
   "cell_type": "code",
   "execution_count": 7,
   "metadata": {},
   "outputs": [
    {
     "name": "stdout",
     "output_type": "stream",
     "text": [
      "invalid literal for int() with base 10: 'a'\n",
      "Çalışmaya Devam\n"
     ]
    }
   ],
   "source": [
    "try:\n",
    "    a = int(input(\"1. Sayıyı Giriniz:\"))\n",
    "    b = int(input(\"2. Sayıyı Giriniz:\"))\n",
    "    print(a/b) # ValueError,ZeroDivisionError\n",
    "except Exception as e:\n",
    "    print(e)\n",
    "except ValueError:\n",
    "    print(\"Değer hatası\")\n",
    "except ZeroDivisionError:\n",
    "    print(\"Sıfıra Bölme Hatası\")\n",
    "except Exception as e:\n",
    "    print(e)\n",
    "print(\"Çalışmaya Devam\")"
   ]
  },
  {
   "cell_type": "code",
   "execution_count": null,
   "metadata": {},
   "outputs": [],
   "source": [
    "try:\n",
    "    a = int(input(\"1. Sayıyı Giriniz:\"))\n",
    "    b = int(input(\"2. Sayıyı Giriniz:\"))\n",
    "except ValueError:\n",
    "    print(\"Değer hatası\")\n",
    "else:\n",
    "    try:\n",
    "        print(a/b) # ValueError,ZeroDivisionError\n",
    "    except ZeroDivisionError:\n",
    "        print(\"Sıfıra Bölme Hatası\")"
   ]
  },
  {
   "cell_type": "code",
   "execution_count": 9,
   "metadata": {},
   "outputs": [
    {
     "name": "stdout",
     "output_type": "stream",
     "text": [
      "Sıfıra Bölme Hatası\n",
      "Sonunda Çalıştı\n",
      "Çalışmaya Devam\n"
     ]
    }
   ],
   "source": [
    "try:\n",
    "    a = int(input(\"1. Sayıyı Giriniz:\"))\n",
    "    b = int(input(\"2. Sayıyı Giriniz:\"))\n",
    "    print(a/b) # ValueError,ZeroDivisionError\n",
    "except ValueError:\n",
    "    print(\"Değer hatası\")\n",
    "except ZeroDivisionError:\n",
    "    print(\"Sıfıra Bölme Hatası\")\n",
    "except Exception as e:\n",
    "    print(e)\n",
    "finally:\n",
    "    print(\"Sonunda Çalıştı\")\n",
    "print(\"Çalışmaya Devam\")"
   ]
  },
  {
   "cell_type": "code",
   "execution_count": null,
   "metadata": {},
   "outputs": [
    {
     "name": "stdout",
     "output_type": "stream",
     "text": [
      "2.5\n",
      "Sonunda Çalıştı\n"
     ]
    },
    {
     "ename": "ZeroDivisionError",
     "evalue": "division by zero",
     "output_type": "error",
     "traceback": [
      "\u001b[1;31m---------------------------------------------------------------------------\u001b[0m",
      "\u001b[1;31mZeroDivisionError\u001b[0m                         Traceback (most recent call last)",
      "Cell \u001b[1;32mIn[15], line 17\u001b[0m\n\u001b[0;32m     15\u001b[0m         \u001b[38;5;28mprint\u001b[39m(\u001b[38;5;241m5\u001b[39m\u001b[38;5;241m/\u001b[39m\u001b[38;5;241m0\u001b[39m)\n\u001b[0;32m     16\u001b[0m     \u001b[38;5;28mprint\u001b[39m(\u001b[38;5;124m\"\u001b[39m\u001b[38;5;124mÇalışmaya Devam\u001b[39m\u001b[38;5;124m\"\u001b[39m)\n\u001b[1;32m---> 17\u001b[0m \u001b[43mfonk\u001b[49m\u001b[43m(\u001b[49m\u001b[43m)\u001b[49m\n",
      "Cell \u001b[1;32mIn[15], line 15\u001b[0m, in \u001b[0;36mfonk\u001b[1;34m()\u001b[0m\n\u001b[0;32m     13\u001b[0m \u001b[38;5;28;01mfinally\u001b[39;00m:\n\u001b[0;32m     14\u001b[0m     \u001b[38;5;28mprint\u001b[39m(\u001b[38;5;124m\"\u001b[39m\u001b[38;5;124mSonunda Çalıştı\u001b[39m\u001b[38;5;124m\"\u001b[39m)\n\u001b[1;32m---> 15\u001b[0m     \u001b[38;5;28mprint\u001b[39m(\u001b[38;5;241;43m5\u001b[39;49m\u001b[38;5;241;43m/\u001b[39;49m\u001b[38;5;241;43m0\u001b[39;49m)\n\u001b[0;32m     16\u001b[0m \u001b[38;5;28mprint\u001b[39m(\u001b[38;5;124m\"\u001b[39m\u001b[38;5;124mÇalışmaya Devam\u001b[39m\u001b[38;5;124m\"\u001b[39m)\n",
      "\u001b[1;31mZeroDivisionError\u001b[0m: division by zero"
     ]
    }
   ],
   "source": [
    "def fonk():\n",
    "    try:\n",
    "        a = int(input(\"1. Sayıyı Giriniz:\"))\n",
    "        b = int(input(\"2. Sayıyı Giriniz:\"))\n",
    "        print(a/b) # ValueError,ZeroDivisionError\n",
    "        return 5\n",
    "    except ValueError:\n",
    "        print(\"Değer hatası\")\n",
    "    except ZeroDivisionError:\n",
    "        print(\"Sıfıra Bölme Hatası\")\n",
    "    except Exception as e:\n",
    "        print(e)\n",
    "    finally:\n",
    "        print(\"Sonunda Çalıştı\")\n",
    "\n",
    "    print(\"Çalışmaya Devam\")\n",
    "fonk()"
   ]
  },
  {
   "cell_type": "code",
   "execution_count": 16,
   "metadata": {},
   "outputs": [],
   "source": [
    "def fonk():\n",
    "    return 5/0"
   ]
  },
  {
   "cell_type": "code",
   "execution_count": 21,
   "metadata": {},
   "outputs": [
    {
     "name": "stdout",
     "output_type": "stream",
     "text": [
      "2.5\n",
      "Sıfıra Bölme Hatası\n",
      "Sonunda Çalıştı\n",
      "Çalışmaya Devam\n"
     ]
    }
   ],
   "source": [
    "def testFonk():\n",
    "    try:\n",
    "        a = int(input(\"1. Sayıyı Giriniz:\"))\n",
    "        b = int(input(\"2. Sayıyı Giriniz:\"))\n",
    "        print(a/b) # ValueError,ZeroDivisionError\n",
    "        fonk()\n",
    "        return 5\n",
    "    except ValueError:\n",
    "        print(\"Değer hatası\")\n",
    "    except ZeroDivisionError:\n",
    "        print(\"Sıfıra Bölme Hatası\")\n",
    "    except Exception as e:\n",
    "        print(e)\n",
    "    finally:\n",
    "        print(\"Sonunda Çalıştı\")\n",
    "\n",
    "    print(\"Çalışmaya Devam\")\n",
    "testFonk()"
   ]
  },
  {
   "cell_type": "code",
   "execution_count": 22,
   "metadata": {},
   "outputs": [
    {
     "name": "stdout",
     "output_type": "stream",
     "text": [
      "Sıfıra Bölme Hatası\n",
      "Sonunda Çalıştı\n",
      "Çalışmaya Devam\n"
     ]
    }
   ],
   "source": [
    "try:\n",
    "    a = int(input(\"1. Sayıyı Giriniz:\"))\n",
    "    if a == 0: raise ZeroDivisionError(\"ZeroDivisionError\")\n",
    "    b = int(input(\"2. Sayıyı Giriniz:\"))\n",
    "    print(a/b) # ValueError,ZeroDivisionError\n",
    "except ValueError:\n",
    "    print(\"Değer hatası\")\n",
    "except ZeroDivisionError:\n",
    "    print(\"Sıfıra Bölme Hatası\")\n",
    "except Exception as e:\n",
    "    print(e)\n",
    "finally:\n",
    "    print(\"Sonunda Çalıştı\")\n",
    "print(\"Çalışmaya Devam\")"
   ]
  },
  {
   "cell_type": "code",
   "execution_count": null,
   "metadata": {},
   "outputs": [],
   "source": [
    "def bolme(a,b):\n",
    "    if a or b:\n",
    "        raise ZeroDivisionError(\"Sıfır Sıfır Sıfır\")\n",
    "    else:\n",
    "        return a/b\n"
   ]
  }
 ],
 "metadata": {
  "kernelspec": {
   "display_name": "Python 3",
   "language": "python",
   "name": "python3"
  },
  "language_info": {
   "codemirror_mode": {
    "name": "ipython",
    "version": 3
   },
   "file_extension": ".py",
   "mimetype": "text/x-python",
   "name": "python",
   "nbconvert_exporter": "python",
   "pygments_lexer": "ipython3",
   "version": "3.13.0"
  }
 },
 "nbformat": 4,
 "nbformat_minor": 2
}
